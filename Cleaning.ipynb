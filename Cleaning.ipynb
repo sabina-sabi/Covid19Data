{
 "cells": [
  {
   "cell_type": "code",
   "execution_count": 2,
   "metadata": {},
   "outputs": [],
   "source": [
    "import pandas as pd\n",
    "from sklearn.preprocessing import LabelEncoder , StandardScaler\n",
    "import matplotlib.pyplot as plt\n",
    "\n",
    "\n",
    "# Importer le DataFrame depuis le fichier CSV\n",
    "df = pd.read_csv('dataframe.csv')"
   ]
  },
  {
   "cell_type": "code",
   "execution_count": 3,
   "metadata": {},
   "outputs": [],
   "source": [
    "# Étape 1 : Nettoyage initial\n",
    "def nettoyage_initial(df):\n",
    "    # Suppression des colonnes et lignes avec plus de 95% de valeurs manquantes\n",
    "    seuil = 0.95\n",
    "    df = df.loc[:, df.isna().mean() < seuil]\n",
    "    seuil_lignes = 0.90\n",
    "    df = df.dropna(axis=0, thresh=df.shape[1] * seuil_lignes)\n",
    "    # Suppression de la colonne 'Patient ID'\n",
    "    df = df.drop(columns=['Patient ID'])\n",
    "    # Remplacer 'positive' par 1 et 'negative' par 0 dans la colonne 'SARS-Cov-2 exam result' pour travailler avec des valeurs numériques\n",
    "    df['SARS-Cov-2 exam result'] = df['SARS-Cov-2 exam result'].replace({'positive': 1, 'negative': 0})\n",
    "    return df"
   ]
  },
  {
   "cell_type": "code",
   "execution_count": 4,
   "metadata": {},
   "outputs": [],
   "source": [
    "# Suppression des doublons \n",
    "def supprimer_doublons(df):\n",
    "    df_sans_doublons = df.drop_duplicates()\n",
    "    return df_sans_doublons"
   ]
  },
  {
   "cell_type": "code",
   "execution_count": 5,
   "metadata": {},
   "outputs": [],
   "source": [
    "def supprimer_lignes_nan(df):\n",
    "    df_sans_nan = df.dropna(axis=0)\n",
    "    return df_sans_nan"
   ]
  },
  {
   "cell_type": "code",
   "execution_count": 6,
   "metadata": {},
   "outputs": [],
   "source": [
    "def encodage_string(df):\n",
    "    colonnes_string = df.select_dtypes(include=['object']).columns\n",
    "    label_encoder = LabelEncoder()\n",
    "    for col in colonnes_string:\n",
    "        df[col] = label_encoder.fit_transform(df[col].astype(str))\n",
    "    return df"
   ]
  },
  {
   "cell_type": "code",
   "execution_count": 7,
   "metadata": {},
   "outputs": [],
   "source": [
    "def supprimer_valeurs_aberrantes(df, seuil=1.5):\n",
    "    # Calculer les limites inférieure et supérieure pour chaque colonne\n",
    "    limites_inferieures = df.quantile(0.25) - seuil * (df.quantile(0.75) - df.quantile(0.25))\n",
    "    limites_superieures = df.quantile(0.75) + seuil * (df.quantile(0.75) - df.quantile(0.25))\n",
    "    # Supprimer les lignes contenant des valeurs aberrantes\n",
    "    masque = ((df < limites_inferieures) | (df > limites_superieures)).any(axis=1)\n",
    "    df_clean = df[~masque]\n",
    "    return df_clean\n"
   ]
  },
  {
   "cell_type": "code",
   "execution_count": null,
   "metadata": {},
   "outputs": [],
   "source": [
    "from outils import visualiser_valeurs_aberrantes\n",
    "\n",
    "df = nettoyage_initial(df)\n",
    "df_sans_nan = supprimer_lignes_nan(df)\n",
    "df_encode = encodage_string(df_sans_nan)\n",
    "\n",
    "visualiser_valeurs_aberrantes(df_encode)\n",
    "supprimer_valeurs_aberrantes(df_encode, seuil=1.5)\n",
    "visualiser_valeurs_aberrantes(df_encode)\n",
    "\n",
    " # Vérifier les modifications\n",
    "print(df['SARS-Cov-2 exam result'].head())\n",
    "\n",
    "# Définir l'affichage pour afficher toutes les colonnes sur une seule ligne\n",
    "pd.set_option(\"display.max_columns\", None)\n",
    "\n",
    "# Afficher le DataFrame avec toutes les colonnes sur une seule ligne\n",
    "print(df.head().to_string(index=False))"
   ]
  }
 ],
 "metadata": {
  "kernelspec": {
   "display_name": "Python 3",
   "language": "python",
   "name": "python3"
  },
  "language_info": {
   "codemirror_mode": {
    "name": "ipython",
    "version": 3
   },
   "file_extension": ".py",
   "mimetype": "text/x-python",
   "name": "python",
   "nbconvert_exporter": "python",
   "pygments_lexer": "ipython3",
   "version": "3.12.3"
  }
 },
 "nbformat": 4,
 "nbformat_minor": 2
}
